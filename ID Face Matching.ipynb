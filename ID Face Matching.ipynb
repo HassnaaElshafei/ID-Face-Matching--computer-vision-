{
 "cells": [
  {
   "cell_type": "code",
   "execution_count": 1,
   "id": "842da7b8",
   "metadata": {},
   "outputs": [
    {
     "name": "stderr",
     "output_type": "stream",
     "text": [
      "C:\\Users\\hassn\\anaconda3\\envs\\newenv\\lib\\site-packages\\tqdm\\auto.py:21: TqdmWarning: IProgress not found. Please update jupyter and ipywidgets. See https://ipywidgets.readthedocs.io/en/stable/user_install.html\n",
      "  from .autonotebook import tqdm as notebook_tqdm\n"
     ]
    }
   ],
   "source": [
    "import cv2\n",
    "import numpy as np\n",
    "import os\n",
    "from facenet_pytorch import MTCNN, InceptionResnetV1\n",
    "import torch\n",
    "import numpy as np\n"
   ]
  },
  {
   "cell_type": "code",
   "execution_count": 2,
   "id": "8d5d736c",
   "metadata": {},
   "outputs": [],
   "source": [
    "id_image = 'ID_image.jpg'\n",
    "\n",
    "\n",
    "def extract_id_photo(image_path):\n",
    "    face_cascade = cv2.CascadeClassifier(cv2.data.haarcascades + 'haarcascade_frontalface_default.xml')\n",
    "    image = cv2.imread(image_path)\n",
    "    gray = cv2.cvtColor(image, cv2.COLOR_BGR2GRAY)\n",
    "    faces = face_cascade.detectMultiScale(gray, 1.1, 4)\n",
    "\n",
    "    for (x, y, w, h) in faces:\n",
    "        extracted_photo = image[y:y + h, x:x + w]\n",
    "        return extracted_photo\n"
   ]
  },
  {
   "cell_type": "code",
   "execution_count": 6,
   "id": "3d34d403",
   "metadata": {},
   "outputs": [
    {
     "data": {
      "text/plain": [
       "True"
      ]
     },
     "execution_count": 6,
     "metadata": {},
     "output_type": "execute_result"
    }
   ],
   "source": [
    "# test the extraction function\n",
    "extracted_face = extract_id_photo('ID_image2.jpg')\n",
    "cv2.imshow('Extracted Photo', extracted_face)\n",
    "cv2.waitKey(0)\n",
    "cv2.destroyAllWindows() \n",
    "\n",
    "# saving extracted face as a temporary image file\n",
    "cv2.imwrite('temp_face.jpg', extracted_face)\n"
   ]
  },
  {
   "cell_type": "code",
   "execution_count": 7,
   "id": "225d99ad",
   "metadata": {},
   "outputs": [],
   "source": [
    "# feature extraction and matching\n",
    "mtcnn = MTCNN(image_size=160, margin=0, keep_all=True, device='cuda' if torch.cuda.is_available() else 'cpu')\n",
    "resnet = InceptionResnetV1(pretrained='vggface2').eval()  \n",
    "\n",
    "def get_embedding(image):\n",
    "    # preprocessing the image to match the input requirements of the MTCNN and InceptionResnetV1 models\n",
    "    face = mtcnn(image)\n",
    "    embedding = resnet(face) \n",
    "    return embedding\n",
    "\n",
    "def cosine_similarity(embedding1, embedding2):\n",
    "    if embedding1.shape == (1, 512):\n",
    "        embedding1 = embedding1.reshape(-1)\n",
    "    if embedding2.shape == (1, 512):\n",
    "        embedding2 = embedding2.reshape(-1)\n",
    "\n",
    "    sim = np.dot(embedding1, embedding2) / (np.linalg.norm(embedding1) * np.linalg.norm(embedding2))\n",
    "    return sim"
   ]
  },
  {
   "cell_type": "code",
   "execution_count": 8,
   "id": "b69826cb",
   "metadata": {},
   "outputs": [
    {
     "name": "stdout",
     "output_type": "stream",
     "text": [
      "Cosine Similarity: 0.7862959504127502\n"
     ]
    }
   ],
   "source": [
    "# testing the matching function \n",
    "temp_face_image = cv2.imread('temp_face.jpg')\n",
    "embedding_id = get_embedding(temp_face_image)\n",
    "other_image = cv2.imread('image2.jpg', 0)\n",
    "other_image = cv2.cvtColor(other_image, cv2.COLOR_GRAY2BGR)\n",
    "embedding_other = get_embedding(other_image)\n",
    "similarity = cosine_similarity(embedding_id.detach().numpy(), embedding_other.detach().numpy())\n",
    "print(f\"Cosine Similarity: {similarity}\")"
   ]
  },
  {
   "cell_type": "code",
   "execution_count": null,
   "id": "0576fc17",
   "metadata": {},
   "outputs": [],
   "source": []
  }
 ],
 "metadata": {
  "kernelspec": {
   "display_name": "Python 3 (ipykernel)",
   "language": "python",
   "name": "python3"
  },
  "language_info": {
   "codemirror_mode": {
    "name": "ipython",
    "version": 3
   },
   "file_extension": ".py",
   "mimetype": "text/x-python",
   "name": "python",
   "nbconvert_exporter": "python",
   "pygments_lexer": "ipython3",
   "version": "3.9.18"
  }
 },
 "nbformat": 4,
 "nbformat_minor": 5
}
